{
 "cells": [
  {
   "cell_type": "code",
   "execution_count": 1,
   "metadata": {},
   "outputs": [],
   "source": [
    "# All Questions\n",
    "# 1.\tWrite a Python program to find words which are greater than given length k?\n",
    "# 2.\tWrite a Python program for removing i-th character from a string?\n",
    "# 3.\tWrite a Python program to split and join a string?\n",
    "# 4.\tWrite a Python to check if a given string is binary string or not?\n",
    "# 5.\tWrite a Python program to find uncommon words from two Strings?\n",
    "# 6.\tWrite a Python to find all duplicate characters in string?\n",
    "# 7.\tWrite a Python Program to check if a string contains any special character?\n"
   ]
  },
  {
   "cell_type": "code",
   "execution_count": 4,
   "metadata": {},
   "outputs": [
    {
     "name": "stdout",
     "output_type": "stream",
     "text": [
      "Enter the Words seperated by space : python hello machinelearning ai\n",
      "Enter the k value : 5\n",
      "python\n",
      "machinelearning\n"
     ]
    }
   ],
   "source": [
    "#Question : 1\n",
    "# 1.\tWrite a Python program to find words which are greater than given length k?\n",
    "\n",
    "words_list = input(\"Enter the Words seperated by space : \").split()\n",
    "k_length = int(input(\"Enter the k value : \"))\n",
    "\n",
    "#Here We're Just iterating through the list of words and printing whoose lenght is > the given k\n",
    "def find_words(words_list, k_length):\n",
    "    for word in words_list:\n",
    "        if len(word)>k_length:\n",
    "            print(word)\n",
    "            \n",
    "find_words(words_list, k_length)"
   ]
  },
  {
   "cell_type": "code",
   "execution_count": 7,
   "metadata": {},
   "outputs": [
    {
     "name": "stdout",
     "output_type": "stream",
     "text": [
      "Enter the String : stringtoremove\n",
      "Remove the index of Character to Remove : 1\n",
      "tringtoremove\n"
     ]
    }
   ],
   "source": [
    "# 2.\tWrite a Python program for removing i-th character from a string?\n",
    "\n",
    "string = input(\"Enter the String : \")\n",
    "ith_char = int(input(\"Remove the index of Character to Remove : \"))\n",
    "\n",
    "print(string.replace(string[ith_char-1], '', 1))"
   ]
  },
  {
   "cell_type": "code",
   "execution_count": 8,
   "metadata": {},
   "outputs": [
    {
     "name": "stdout",
     "output_type": "stream",
     "text": [
      "['String', 'to', 'split', 'by', 'spaces']\n",
      "String to join\n"
     ]
    }
   ],
   "source": [
    "# 3.\tWrite a Python program to split and join a string?\n",
    "\n",
    "print(\"String to split by spaces\".split())\n",
    "print(\" \".join(['String', 'to', 'join']))"
   ]
  },
  {
   "cell_type": "code",
   "execution_count": 14,
   "metadata": {},
   "outputs": [
    {
     "name": "stdout",
     "output_type": "stream",
     "text": [
      "Enter First String : first string\n",
      "Enter Second String : second string\n",
      "Uncommon Words :  {'first', 'second'}\n"
     ]
    }
   ],
   "source": [
    "# 5.\tWrite a Python program to find uncommon words from two Strings?\n",
    "first_string = input(\"Enter First String : \")\n",
    "second_string = input(\"Enter Second String : \")\n",
    "\n",
    "print(\"Uncommon Words : \", set(first_string.split()).symmetric_difference(second_string.split()))"
   ]
  },
  {
   "cell_type": "code",
   "execution_count": 22,
   "metadata": {},
   "outputs": [
    {
     "name": "stdout",
     "output_type": "stream",
     "text": [
      "Enter the string : duplicatecharacters\n",
      "Duplicate Character are as follows : \n",
      "c\n",
      "e\n",
      "a\n",
      "t\n",
      "r\n"
     ]
    }
   ],
   "source": [
    "# 6.\tWrite a Python to find all duplicate characters in string?\n",
    "string = input(\"Enter the string : \")\n",
    "print(\"Duplicate Character are as follows : \")\n",
    "for char in set(string):\n",
    "    if string.count(char)>1:\n",
    "        print(char)\n"
   ]
  },
  {
   "cell_type": "code",
   "execution_count": 27,
   "metadata": {},
   "outputs": [
    {
     "name": "stdout",
     "output_type": "stream",
     "text": [
      "Enter the String : fdk3#>3(fd\n",
      "['#', '>', '(']\n"
     ]
    }
   ],
   "source": [
    "# 7.\tWrite a Python Program to check if a string contains any special character?\n",
    "import re\n",
    "\n",
    "string = input(\"Enter the String : \")\n",
    "\n",
    "#Here We're using regular expressions to solve the problem\n",
    "def special_char_check(string):\n",
    "    spcl_chars = re.compile('[@_.!#$%^&*()<>?/\\|}{~:]')\n",
    "    return spcl_chars.findall(string)\n",
    "\n",
    "print(special_char_check(string))\n"
   ]
  }
 ],
 "metadata": {
  "kernelspec": {
   "display_name": "Python 3",
   "language": "python",
   "name": "python3"
  },
  "language_info": {
   "codemirror_mode": {
    "name": "ipython",
    "version": 3
   },
   "file_extension": ".py",
   "mimetype": "text/x-python",
   "name": "python",
   "nbconvert_exporter": "python",
   "pygments_lexer": "ipython3",
   "version": "3.8.5"
  }
 },
 "nbformat": 4,
 "nbformat_minor": 4
}
