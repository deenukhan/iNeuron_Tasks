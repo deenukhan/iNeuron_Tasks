{
 "cells": [
  {
   "cell_type": "markdown",
   "metadata": {},
   "source": [
    "## Theoritical Questions : "
   ]
  },
  {
   "cell_type": "raw",
   "metadata": {},
   "source": [
    "1.What are the two values of the Boolean data type? How do you write them?\n",
    "Ans : True and False which represent 1 and 0 consecutively , we write them var1 = True, var2 = False\n",
    "\n",
    "2. What are the three different types of Boolean operators?\n",
    "Ans : and, or, not.\n",
    "\n",
    "3. Make a list of each Boolean operator's truth tables (i.e. every possible combination of Boolean values for the operator and what it evaluate ).\n",
    "Ans : Below Tables are self-explanatory , for and operator if both the values are True then only result will be true, for or operator if any of the values are True then result will be True, for not operator it’s just opposite.  \n",
    "a\tb\ta and b\n",
    "False\tFalse\tFalse\n",
    "False\tTrue\tFalse\n",
    "True\tFalse\tFalse\n",
    "True\tTrue\tTrue\n",
    "\t\t\n",
    "a\tb\ta or b\n",
    "False\tFalse\tFalse\n",
    "False\tTrue\tTrue\n",
    "True\tFalse\tTrue\n",
    "True\tTrue\tTrue\n",
    "\t\t\n",
    "a\tnot a\n",
    "False\tTrue\n",
    "True\tFalse\n",
    "\n",
    "4. What are the values of the following expressions?\n",
    "    (5 > 4) and (3 == 5)\n",
    "    not (5 > 4)\n",
    "    (5 > 4) or (3 == 5)\n",
    "    not ((5 > 4) or (3 == 5))\n",
    "    (True and True) and (True == False)\n",
    "    (not False) or (not True)\n",
    "Ans : \t\n",
    "    (5 > 4) and (3 == 5)   \t\t= False\n",
    "    not (5 > 4) \t       \t\t= False\n",
    "    (5 > 4) or (3 == 5)    \t\t= True\n",
    "    not ((5 > 4) or (3 == 5)) \t\t= False\n",
    "    (True and True) and (True == False)   = False\n",
    "    (not False) or (not True)   \t= True\n",
    "\n",
    "5. What are the six comparison operators?\n",
    "Ans : ==, >, <, <=, >=, !=\n",
    "\n",
    "6. How do you tell the difference between the equal to and assignment operators?Describe a condition and when you would use one.\n",
    "Ans : == is for equal to, = is for assignment operation. When I need to compare I would use == and when I need to assign some value then I will use =. \n",
    "\n",
    "7. Identify the three blocks in this code:\n",
    "    spam = 0\n",
    "    if spam == 10:\n",
    "    print('eggs')\n",
    "    if spam > 5:\n",
    "    print('bacon')\n",
    "    else:\n",
    "    print('ham')\n",
    "    print('spam')\n",
    "    print('spam')\n",
    "Ans : \n",
    "    spam = 0\n",
    "    if spam == 10:\n",
    "        print('eggs')\n",
    "    if spam > 5:\n",
    "        print('bacon')\n",
    "    else:\n",
    "        print('ham')\n",
    "        print('spam')\n",
    "        print('spam')\n",
    "\n",
    "9.If your programme is stuck in an endless loop, what keys you’ll press?\n",
    "Ans : Ctrl + C\n",
    "\n",
    "10. How can you tell the difference between break and continue?\n",
    "Ans : Break is to come out of the loop and continue is to skip the iteration.\n",
    "\n",
    "11. In a for loop, what is the difference between range(10), range(0, 10), and range(0, 10, 1)?\n",
    "Ans : range(10), range(0, 10), and range(0, 10, 1) are same, all these will loop from from 0 to 9.\n",
    "      By default range will start from 0 and range(0, 10, 1) here 1 is for step, means how many number loop should jump after         the iterations. \n",
    "\n",
    "13. If you had a function named bacon() inside a module named spam, how would you call it after importing spam?\n",
    "Ans :     \n",
    "        import spam\n",
    "        spam.bacon()\n"
   ]
  },
  {
   "cell_type": "markdown",
   "metadata": {},
   "source": [
    "## Programming Questions"
   ]
  },
  {
   "cell_type": "code",
   "execution_count": 2,
   "metadata": {},
   "outputs": [
    {
     "name": "stdout",
     "output_type": "stream",
     "text": [
      "Enter spam value : f\n",
      "Greetings\n"
     ]
    }
   ],
   "source": [
    "#8. Write code that prints Hello if 1 is stored in spam, prints Howdy if 2 is stored in spam, \n",
    "#   and prints Greetings! if anything else is stored in spam.\n",
    "\n",
    "spam = input(\"Enter spam value : \")\n",
    "if spam == '1':\n",
    "    print('Hello')\n",
    "elif(spam == '2'):\n",
    "    print(\"Howdy\")\n",
    "else:\n",
    "    print(\"Greetings\")"
   ]
  },
  {
   "cell_type": "code",
   "execution_count": 5,
   "metadata": {},
   "outputs": [
    {
     "name": "stdout",
     "output_type": "stream",
     "text": [
      "Numbers 1 to 10 using for loop : \n",
      "1\n",
      "2\n",
      "3\n",
      "4\n",
      "5\n",
      "6\n",
      "7\n",
      "8\n",
      "9\n",
      "10\n",
      "Numbers 1 to 10 using while loop : \n",
      "1\n",
      "2\n",
      "3\n",
      "4\n",
      "5\n",
      "6\n",
      "7\n",
      "8\n",
      "9\n",
      "10\n"
     ]
    }
   ],
   "source": [
    "# 12. Write a short program that prints the numbers 1 to 10 using a for loop. \n",
    "#     Then write an equivalent program that prints the numbers 1 to 10 using a while loop.\n",
    "\n",
    "print(\"Numbers 1 to 10 using for loop : \")\n",
    "for number in range(1, 11):\n",
    "    print(number)\n",
    "\n",
    "print(\"Numbers 1 to 10 using while loop : \")\n",
    "number = 1\n",
    "while(number <= 10):\n",
    "    print(number)\n",
    "    number += 1"
   ]
  },
  {
   "cell_type": "code",
   "execution_count": null,
   "metadata": {},
   "outputs": [],
   "source": []
  }
 ],
 "metadata": {
  "kernelspec": {
   "display_name": "Python 3",
   "language": "python",
   "name": "python3"
  },
  "language_info": {
   "codemirror_mode": {
    "name": "ipython",
    "version": 3
   },
   "file_extension": ".py",
   "mimetype": "text/x-python",
   "name": "python",
   "nbconvert_exporter": "python",
   "pygments_lexer": "ipython3",
   "version": "3.8.5"
  }
 },
 "nbformat": 4,
 "nbformat_minor": 4
}
