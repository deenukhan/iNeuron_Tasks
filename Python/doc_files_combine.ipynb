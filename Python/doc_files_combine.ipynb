{
 "cells": [
  {
   "cell_type": "markdown",
   "metadata": {},
   "source": [
    "### Question : "
   ]
  },
  {
   "cell_type": "code",
   "execution_count": 54,
   "metadata": {},
   "outputs": [],
   "source": [
    "### Question : \n",
    "# # Task : I have four folders named as \"python_advance\", \"python_basic\" containing theoritical assignments 25 files in each folder \n",
    "#          and \"python_programming_basic\", \"python_programming_advance\" containing programming questions assignments 25 files in each folder.\n",
    "#          Now I need to perform following actvities : \n",
    "#             1. I need to create a folder 'theoritical_assignments' and copy all the files from \"python_advance\", \"python_basic\" into this folder\n",
    "#             2. I need to create another folder 'programming_assignments' and copy all the files from \"python_programming_basic\", \"python_programming_advance\" into this folder.\n",
    "#             3. I need to take care of naming part as well, because files name could be same\n",
    "#             4. Now I need to create two docx files, \"theoritical_assignments.docx\" and \"programming_assignments.docx\"\n",
    "#             5. And Copy all the questions from each theoritical_assignments file into theoritical_assignments.docx. \n",
    "#             6. Copy all the questions from each programming_assignments file into programming_assignments.docx.\n",
    "#             7. We also put heading between each assignments questions, like Assignment 1, then questions and then Assignment 2\n",
    "\n",
    "#   All the Mentioned Folders are in directory \"C:\\\\Users\\\\deenuk\\\\Documents\\\\task2\\\\\"\" and I will be working \n",
    "#   In the same directory\n",
    "\n",
    "#   Note : All the above mentioned requirements are as per my understanding, there may be a little variation from the actual task\n",
    "#          given bye iNeuron Team."
   ]
  },
  {
   "cell_type": "markdown",
   "metadata": {},
   "source": [
    "### How to run this code ?"
   ]
  },
  {
   "cell_type": "code",
   "execution_count": null,
   "metadata": {},
   "outputs": [],
   "source": [
    "# I have used docx library which is not present in Python by defaul, we need to install it. Please refer below link for more info.\\\n",
    "#   https://python-docx.readthedocs.io/en/latest/user/install.html\n",
    "\n",
    "# I have attached the docx_combine_tesk_ineuron.zip file within the same section on Github as this notebook, check below link.\n",
    "# https://github.com/deenukhan/iNeuron_Tasks/blob/main/Python/docx_combine_task_ineuron.7z\n",
    "# data.zip file contains 4 folders and docx_cobine_script.py and doc_files_combine.ipynb.\n",
    "# The above mentioned question can be directly implemented just by running the docx_cobine_script.py from the same folder\n",
    "# for better understanding please refer this notebook."
   ]
  },
  {
   "cell_type": "markdown",
   "metadata": {},
   "source": [
    "## Coding part : "
   ]
  },
  {
   "cell_type": "code",
   "execution_count": 1,
   "metadata": {},
   "outputs": [],
   "source": [
    "import os\n",
    "import shutil\n",
    "from docx import Document"
   ]
  },
  {
   "cell_type": "code",
   "execution_count": 4,
   "metadata": {},
   "outputs": [],
   "source": [
    "work_path = os.getcwd() # let's set the working path\n",
    "\n",
    "#Let's Create the two folders\n",
    "os.mkdir('theoritical_assignments')\n",
    "os.mkdir('programming_assignments')"
   ]
  },
  {
   "cell_type": "markdown",
   "metadata": {},
   "source": [
    "### Moving Theoritical Files"
   ]
  },
  {
   "cell_type": "code",
   "execution_count": 5,
   "metadata": {},
   "outputs": [],
   "source": [
    "# Let's copy files from \"python_basic\" to theoritical_assignments\n",
    "\n",
    "python_basic_files = os.listdir(os.path.join(work_path, 'python_basic'))\n",
    "\n",
    "for file_name in python_basic_files:\n",
    "    #Here we're doing nothing fancy just copy files from one location to another\n",
    "    source = os.path.join(os.path.join(work_path, 'python_basic'), file_name)\n",
    "    destination = os.path.join(work_path, 'theoritical_assignments')\n",
    "    shutil.copy(source, destination)\n",
    "    \n",
    "# Let's copy files from \"python_advance\", to theoritical_assignments and parallely renaming them\\\n",
    "# We have already copied 25 assignments into this folder, now we will rename each file starting from 26th\n",
    "# Eg. Assignment_1.docx in python_advance folder will become Assignment_26.docx in theoritical_assignments folder\n",
    "\n",
    "python_advance_files = os.listdir(os.path.join(work_path, 'python_advance'))\n",
    "\n",
    "for file_name in python_advance_files:\n",
    "    #Below Two Lines are for just extracting the file number so that we can rename the file after 25 and so on.\n",
    "    file_number = file_name.split('.')[0].split('_')[1]\n",
    "    new_file_name = \"Assignment_\"+ str(int(file_number) + 25) + \".docx\"\n",
    "    source = os.path.join(os.path.join(work_path, 'python_advance'), file_name)\n",
    "    destination = os.path.join(os.path.join(work_path, 'theoritical_assignments'), new_file_name)\n",
    "    shutil.move(source, destination)"
   ]
  },
  {
   "cell_type": "markdown",
   "metadata": {},
   "source": [
    "### Moving Programming Files"
   ]
  },
  {
   "cell_type": "code",
   "execution_count": 6,
   "metadata": {},
   "outputs": [],
   "source": [
    "# Let's copy files from \"python_programming_basic\",  to programming_assignments\n",
    "python_basic_program_files = os.listdir(os.path.join(work_path, 'python_programing_basic'))\n",
    "\n",
    "for file_name in python_basic_program_files:\n",
    "    \n",
    "    #Here we're doing nothing fancy just copy files from one location to another\n",
    "    source = os.path.join(os.path.join(work_path, 'python_programing_basic'), file_name)\n",
    "    destination = os.path.join(work_path, 'programming_assignments')\n",
    "    shutil.copy(source, destination)\n",
    "\n",
    "# Let's copy files from \"python_programming_advance\",  to programming_assignments\n",
    "# Here we don't need to rename the files as they are already different\n",
    "python_adv_program_files = os.listdir(os.path.join(work_path, 'python_programming_advance'))\n",
    "\n",
    "for file_name in python_adv_program_files:\n",
    "    #Here we're doing nothing fancy just copy files from one location to another\n",
    "    source = os.path.join(os.path.join(work_path, 'python_programming_advance'), file_name)\n",
    "    destination = os.path.join(work_path, 'programming_assignments')\n",
    "    shutil.copy(source, destination)"
   ]
  },
  {
   "cell_type": "markdown",
   "metadata": {},
   "source": [
    "### Creating and Appending Theoritical docx Files"
   ]
  },
  {
   "cell_type": "code",
   "execution_count": 7,
   "metadata": {},
   "outputs": [],
   "source": [
    "# Here we will be using external library docx's Document() Class deal with docx files\n",
    "# Below code is just for reading the document file and copying it into another new document file\n",
    "os.chdir(os.path.join(work_path, 'theoritical_assignments'))\n",
    "theory_docx_files = os.listdir()\n",
    "new_file = Document()           #Creating the object for new docx file\n",
    "\n",
    "#Here We are just looping through each docx file and reading it's content one by one copying it to another file\n",
    "for file in theory_docx_files:\n",
    "    \n",
    "    #Below Line is just for typing the heading\n",
    "    new_file.add_heading(file, level = 0)\n",
    "    doc = Document(file)\n",
    "    paragraphs = doc.paragraphs\n",
    "    #Here we will not be copying the blank lines, because i saw many docx are having multiple blank lines in between\n",
    "    for para in paragraphs:\n",
    "        if len(para.text) == 0:\n",
    "            continue\n",
    "        else:\n",
    "            new_file.add_paragraph(para.text)\n",
    "\n",
    "# Just Saving the file\n",
    "new_file.save(os.path.join(work_path, \"combined_theory_assignments.docx\"))"
   ]
  },
  {
   "cell_type": "markdown",
   "metadata": {},
   "source": [
    "### Creating and Appending Programming docx Files"
   ]
  },
  {
   "cell_type": "code",
   "execution_count": 8,
   "metadata": {},
   "outputs": [],
   "source": [
    "# Here we will be using external library docx's Document() Class deal with docx files\n",
    "# Below code is just for reading the document file and copying it into another new document file\n",
    "os.chdir(os.path.join(work_path, 'programming_assignments'))\n",
    "programming_docx_files = os.listdir()\n",
    "new_file = Document()                #Creating the object for new docx file\n",
    "\n",
    "#Here We are just looping through each docx file and reading it's content one by one copying it to another file\n",
    "for file in programming_docx_files:\n",
    "    \n",
    "    #Below Line is just for typing the heading\n",
    "    new_file.add_heading(file, level = 0)\n",
    "    doc = Document(file)\n",
    "    paragraphs = doc.paragraphs\n",
    "    #Here we will not be copying the blank lines, because i saw many docx are having multiple blank lines in between\n",
    "    for para in paragraphs:\n",
    "        if len(para.text) == 0:\n",
    "            continue\n",
    "        else:\n",
    "            new_file.add_paragraph(para.text)\n",
    "            \n",
    "# Just Saving the file\n",
    "new_file.save(os.path.join(work_path, \"combined_programming_assignments.docx\"))"
   ]
  },
  {
   "cell_type": "markdown",
   "metadata": {},
   "source": [
    "### Deletion of Unnecessary Folders"
   ]
  },
  {
   "cell_type": "code",
   "execution_count": 9,
   "metadata": {},
   "outputs": [],
   "source": [
    "#Now We will be deleting all the folders except\n",
    "folders_list = ['python_advance', 'python_basic', 'python_programing_basic', 'python_programming_advance', 'theoritical_assignments', 'programming_assignments']\n",
    "os.chdir(work_path)\n",
    "for folders in folders_list:\n",
    "    shutil.rmtree(folders)"
   ]
  },
  {
   "cell_type": "markdown",
   "metadata": {},
   "source": [
    "### Improvements"
   ]
  },
  {
   "cell_type": "code",
   "execution_count": null,
   "metadata": {},
   "outputs": [],
   "source": [
    "# The mindset of improving everything which comes in our way never hurts, same is here, we can imporove this code as well\n",
    "# Some of the suggestions are as follow, Please feel free to give your suggestions and improvements\n",
    "\n",
    "# 1. We can use methods to reduce the repeatative tasks. Like we have copied 25 files 4 times, but it can be reduces from multiple lines \n",
    "#    of codes to just calling a function.\n",
    "# 2. In the final Document file assignments are not in sorted ordered, we can do some changes and that can be done.\n",
    "# 3. We can try multiple things in our code more efficiently which takes less time."
   ]
  }
 ],
 "metadata": {
  "kernelspec": {
   "display_name": "Python 3",
   "language": "python",
   "name": "python3"
  },
  "language_info": {
   "codemirror_mode": {
    "name": "ipython",
    "version": 3
   },
   "file_extension": ".py",
   "mimetype": "text/x-python",
   "name": "python",
   "nbconvert_exporter": "python",
   "pygments_lexer": "ipython3",
   "version": "3.8.5"
  }
 },
 "nbformat": 4,
 "nbformat_minor": 4
}
