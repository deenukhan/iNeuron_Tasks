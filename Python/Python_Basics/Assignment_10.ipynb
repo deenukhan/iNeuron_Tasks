{
 "cells": [
  {
   "cell_type": "markdown",
   "metadata": {},
   "source": [
    "## Theoritical Questions"
   ]
  },
  {
   "cell_type": "code",
   "execution_count": null,
   "metadata": {},
   "outputs": [],
   "source": [
    "'''\n",
    "1. How do you distinguish between shutil.copy() and shutil.copytree()?\n",
    "Ans : shutil.copy() is used when we want to copy a single file at a time but shutil.copytree() can copy an entire folder.\n",
    "\n",
    "2. What function is used to rename files??\n",
    "Ans : We can use os.rename() function or shutil.move()\n",
    "    \n",
    "3. What is the difference between the delete functions in the send2trash and shutil modules?\n",
    "Ans : send2trash basically doesn't delete the files permanently it sends them to Recylebin or Trash, but shutil deletes the files permanently.\n",
    "    \n",
    "4. ZipFile objects have a close() method just like File objects’ close() method. What ZipFile method is equivalent to File objects’ open() method?\n",
    "Ans : zip_object.open() method is equivalent to File object's open method.\n",
    "'''"
   ]
  },
  {
   "cell_type": "markdown",
   "metadata": {},
   "source": [
    "## Programming Questions"
   ]
  },
  {
   "cell_type": "code",
   "execution_count": 84,
   "metadata": {},
   "outputs": [],
   "source": [
    "# Question : \n",
    "# 5. Create a programme that searches a folder tree for files with a certain file extension (such as .pdf or .jpg). \n",
    "#    Copy these files from whatever location they are in to a new folder.\n",
    "\n",
    "# Approach : First We will be creating a pdf_jpg_files folder into current working direcotry\n",
    "#            In the pdf_jpg_files folder we will be creating 3 folders folder1, folder2, folder3\n",
    "#            Now, we will be creating few .pdf, .jpg, .txt and .doc dummy files in each folder\n",
    "#            and then finally we will search for .pdf and .jpg files and will be copying these files into to_copy folder into current_working directory\n",
    "            \n",
    "\n",
    "import os\n",
    "import shutil\n",
    "from pathlib import Path\n",
    "\n",
    "main_folder = 'pdf_jpg_files' #This folder will store all the the subfolders and files\n",
    "to_copy_folder = 'to_copy'    #In this folder we will be copying pdf and jpg files\n",
    "extensions = ['pdf', 'jpg', 'txt', 'doc'] \n",
    "\n",
    "\n",
    "#Below Function basically creates the Folder Structure for our requirement explained above\n",
    "def create_folders():\n",
    "    curr_path = os.getcwd() #Current Directory Path\n",
    "    pdf_jpg_files = os.path.join(curr_path, main_folder)\n",
    "    to_copy = os.path.join(curr_path, to_copy_folder)\n",
    "\n",
    "    #Creating the Folder Structure as per our approach explained above\n",
    "    os.mkdir(pdf_jpg_files)\n",
    "    os.mkdir(to_copy)\n",
    "    os.mkdir(os.path.join(pdf_jpg_files, 'folder_1'))\n",
    "    os.mkdir(os.path.join(pdf_jpg_files, 'folder_2'))\n",
    "    os.mkdir(os.path.join(pdf_jpg_files, 'folder_3')) \n",
    "    return curr_path\n",
    "\n",
    "#Below Method will create few dummy files in each folder with 'pdf', 'jpg', 'txt', 'doc' estensions \n",
    "#Here we are just looping into folders and extensions list and creating empty files.\n",
    "def create_files(extensions, folders_list):\n",
    "        start_number = 1\n",
    "        for folder in folders_list:\n",
    "            for extension in extensions: \n",
    "                for number in range(start_number, start_number + 5):\n",
    "                    path = os.path.join(pdf_jpg_files, folder)\n",
    "                    final_path = os.path.join(path, \"file_\"+ str(number) + \".\" + extension)\n",
    "                    open(final_path, 'a').close()\n",
    "            start_number += 5    \n",
    "\n",
    "curr_path = create_folders() #Calling the create_folders() function\n",
    "\n",
    "folders_list = os.listdir(os.path.join(curr_path, main_folder))\n",
    "create_files(extensions, folders_list) #Calling the create_folders() function"
   ]
  },
  {
   "cell_type": "code",
   "execution_count": 85,
   "metadata": {},
   "outputs": [],
   "source": [
    "#copy_pdf_jpg() function recieves the parent directory path and path where we want to copy pdf and jpg files\n",
    "#and it copies these pdf and jpg files into destination folder\n",
    "#Here we are simply finding the complete path of the pdf and jpg file and copying them into destination path\n",
    "import re\n",
    "def copy_pdf_jpg(parent_dir, to_copy_dir):\n",
    "    path = Path(parent_dir)\n",
    "    for path in path.rglob(\"*.jpg\"):\n",
    "        shutil.copy(path, to_copy_dir)\n",
    "    \n",
    "    #resetting the path object for using it again\n",
    "    path = Path(parent_dir) \n",
    "    for path in path.rglob(\"*.pdf\"):\n",
    "        shutil.copy(path, to_copy_dir)   \n",
    "\n",
    "parent_dir = os.path.join(curr_path, main_folder)    #Main Directory Where all folders and sub folders and files are present\n",
    "to_copy_dir= os.path.join(curr_path, to_copy_folder) #Folder path where we need to copy\n",
    "\n",
    "copy_pdf_jpg(parent_dir, to_copy_dir) #Calling the Function"
   ]
  },
  {
   "cell_type": "code",
   "execution_count": 87,
   "metadata": {},
   "outputs": [
    {
     "name": "stdout",
     "output_type": "stream",
     "text": [
      "['file_1.jpg', 'file_1.pdf', 'file_10.jpg', 'file_10.pdf', 'file_11.jpg', 'file_11.pdf', 'file_12.jpg', 'file_12.pdf', 'file_13.jpg', 'file_13.pdf', 'file_14.jpg', 'file_14.pdf', 'file_15.jpg', 'file_15.pdf', 'file_2.jpg', 'file_2.pdf', 'file_3.jpg', 'file_3.pdf', 'file_4.jpg', 'file_4.pdf', 'file_5.jpg', 'file_5.pdf', 'file_6.jpg', 'file_6.pdf', 'file_7.jpg', 'file_7.pdf', 'file_8.jpg', 'file_8.pdf', 'file_9.jpg', 'file_9.pdf']\n"
     ]
    }
   ],
   "source": [
    "#for verification Let's Print the files in to_copy folder\n",
    "print(os.listdir(os.path.join(curr_path, to_copy_folder)))\n",
    "\n",
    "#Here We can see that we only have copied jpg and pdf files"
   ]
  }
 ],
 "metadata": {
  "kernelspec": {
   "display_name": "Python 3",
   "language": "python",
   "name": "python3"
  },
  "language_info": {
   "codemirror_mode": {
    "name": "ipython",
    "version": 3
   },
   "file_extension": ".py",
   "mimetype": "text/x-python",
   "name": "python",
   "nbconvert_exporter": "python",
   "pygments_lexer": "ipython3",
   "version": "3.8.5"
  }
 },
 "nbformat": 4,
 "nbformat_minor": 4
}
