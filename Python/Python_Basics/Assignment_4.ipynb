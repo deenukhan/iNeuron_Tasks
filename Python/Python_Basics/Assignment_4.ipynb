{
 "cells": [
  {
   "cell_type": "markdown",
   "metadata": {},
   "source": [
    "# Theoritical Questions"
   ]
  },
  {
   "cell_type": "code",
   "execution_count": null,
   "metadata": {},
   "outputs": [],
   "source": [
    "'''\n",
    "1. What exactly is []?\n",
    "Ans : [] represents the list the data type.\n",
    "\n",
    "2. In a list of values stored in a variable called spam, how would you assign the value 'hello' as the third value? (Assume [2, 4, 6, 8, 10] are in spam.)\n",
    "Ans : spam[2] = ‘hello’\n",
    "\n",
    "Let's pretend the spam includes the list ['a', 'b', 'c', 'd'] for the next three queries.\n",
    "3. What is the value of spam[int(int('3' * 2) / 11)]?\n",
    "Ans : ‘d’\n",
    "\n",
    "4. What is the value of spam[-1]?\n",
    "Ans : ‘d’\n",
    "\n",
    "5. What is the value of spam[:2]?\n",
    "Ans : [‘a’, ‘b’]\n",
    "\n",
    "Let's pretend bacon has the list [3.14, 'cat', 11, 'cat', True] for the next three questions.\n",
    "6. What is the value of bacon.index('cat')?\n",
    "Ans : 1\n",
    "\n",
    "7. How does bacon.append(99) change the look of the list value in bacon?\n",
    "Ans : [3.14, 'cat', 11, 'cat', True, 99]\n",
    "\n",
    "8. How does bacon.remove('cat') change the look of the list in bacon?\n",
    "Ans : [3.14, 11, 'cat', True, 99]\n",
    "\n",
    "9. What are the list concatenation and list replication operators?\n",
    "Ans : + is concatenation and * is list replication operators.\n",
    "\n",
    "10. What is difference between the list methods append() and insert()?\n",
    "Ans: append() is for adding elements at last of list, insert() can be used to add elements at any position in the list.\n",
    "\n",
    "11. What are the two methods for removing items from a list?\n",
    "Ans : pop() and remove()\n",
    "\n",
    "12. Describe how list values and string values are identical.\n",
    "Ans : Lists and strings are similar both are ordered collection of elements, in string we have characters as it’s elements and List can contain any type of element.\n",
    "\n",
    "13. What's the difference between tuples and lists?\n",
    "Ans : There are couple of difference between tuple and list.\n",
    "1.\tList is mutable and tuples are immutable\n",
    "2.\tList takes more memory to store and tuples takes less memory\n",
    "3.\tList have more built in methods whereas tuples have less methods\n",
    "\n",
    "14. How do you type a tuple value that only contains the integer 42?\n",
    "Ans : tup = (42, )\n",
    "\n",
    "15. How do you get a list value's tuple form? How do you get a tuple value's list form?\n",
    "Ans : We can convert tuples into list with list(tuple) function and tuples into list with tuple(list).\n",
    "\n",
    "16. Variables that \"contain\" list values are not necessarily lists themselves. Instead, what do they contain?\n",
    "Ans : list class\n",
    "\n",
    "17. How do you distinguish between copy.copy() and copy.deepcopy()?\n",
    "Ans : copy.copy() creates the pointer the same memory location and copy.deepcopy() creates another copy of the value and store into another memory location.\n",
    "\n",
    "'''"
   ]
  }
 ],
 "metadata": {
  "kernelspec": {
   "display_name": "Python 3",
   "language": "python",
   "name": "python3"
  },
  "language_info": {
   "codemirror_mode": {
    "name": "ipython",
    "version": 3
   },
   "file_extension": ".py",
   "mimetype": "text/x-python",
   "name": "python",
   "nbconvert_exporter": "python",
   "pygments_lexer": "ipython3",
   "version": "3.8.5"
  }
 },
 "nbformat": 4,
 "nbformat_minor": 4
}
