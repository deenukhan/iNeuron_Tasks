{
 "cells": [
  {
   "cell_type": "code",
   "execution_count": null,
   "metadata": {},
   "outputs": [],
   "source": [
    "# All Questions\n",
    "# 1.\tWrite a Python program to find sum of elements in list?\n",
    "# 2.\tWrite a Python program to  Multiply all numbers in the list?\n",
    "# 3.\tWrite a Python program to find smallest number in a list?\n",
    "# 4.\tWrite a Python program to find largest number in a list?\n",
    "# 5.\tWrite a Python program to find second largest number in a list?\n",
    "# 6.\tWrite a Python program to find N largest elements from a list?\n",
    "# 7.\tWrite a Python program to print even numbers in a list?\n",
    "# 8.\tWrite a Python program to print odd numbers in a List?\n",
    "# 9.\tWrite a Python program to Remove empty List from List?\n",
    "# 10.\tWrite a Python program to Cloning or Copying a list?\n",
    "# 11.\tWrite a Python program to Count occurrences of an element in a list?\n"
   ]
  },
  {
   "cell_type": "code",
   "execution_count": 1,
   "metadata": {},
   "outputs": [
    {
     "name": "stdout",
     "output_type": "stream",
     "text": [
      "Enter the Space Seperated Element of List : 1 4 67 3 56 34 23 23 1 45 45 3 24 9 8 10 10\n"
     ]
    }
   ],
   "source": [
    "#I would be performing all the questions on below element List\n",
    "element_list = [int(x) for x in input(\"Enter the Space Seperated Element of List : \").split()]\n",
    "# 1 4 67 3 56 34 23 23 1 45 45 3 24 9 8 10 10"
   ]
  },
  {
   "cell_type": "code",
   "execution_count": 22,
   "metadata": {},
   "outputs": [
    {
     "name": "stdout",
     "output_type": "stream",
     "text": [
      "Sum of Elements :  366\n",
      "Multiplication of Elements :  850097394800640000\n",
      "Smallest Number of Elements :  1\n",
      "Maximum Number of Elements :  67\n",
      "Second Largest Number of Elements :  56\n",
      "Enter the N to find Nth Largest Number : 3\n",
      "Nth Largest Number of Elements :  45\n",
      "Even Numbers :  [4, 56, 34, 24, 8, 10, 10]\n",
      "Odd Numbers :  [1, 67, 3, 23, 23, 1, 45, 45, 3, 9]\n",
      "Occurence of elment 1 in element list :  2\n"
     ]
    }
   ],
   "source": [
    "from functools import reduce\n",
    "# 1.\tWrite a Python program to find sum of elements in list?\n",
    "print(\"Sum of Elements : \", sum(element_list))\n",
    "\n",
    "# 2.\tWrite a Python program to  Multiply all numbers in the list?\n",
    "print(\"Multiplication of Elements : \", reduce((lambda x, y : x*y), element_list))\n",
    "\n",
    "# 3.\tWrite a Python program to find smallest number in a list?\n",
    "print(\"Smallest Number of Elements : \", min(element_list))\n",
    "\n",
    "# 4.\tWrite a Python program to find largest number in a list?\n",
    "print(\"Maximum Number of Elements : \", max(element_list))\n",
    "\n",
    "# 5.\tWrite a Python program to find second largest number in a list?\n",
    "print(\"Second Largest Number of Elements : \", sorted(set(element_list))[-2])\n",
    "\n",
    "# 6.\tWrite a Python program to find N largest elements from a list?\n",
    "n_th_largest = int(input(\"Enter the N to find Nth Largest Number : \"))\n",
    "print(\"Nth Largest Number of Elements : \", sorted(set(element_list))[-1 * n_th_largest])\n",
    "\n",
    "# 7.\tWrite a Python program to print even numbers in a list?\n",
    "print(\"Even Numbers : \", [number for number in element_list if number%2==0])\n",
    "\n",
    "# 8.\tWrite a Python program to print odd numbers in a List?\n",
    "print(\"Odd Numbers : \", [number for number in element_list if number%2!=0])\n",
    "\n",
    "# 10.\tWrite a Python program to Cloning or Copying a list?\n",
    "element_list_copy1 = element_list.copy()\n",
    "element_list_copy2 = element_list[:]\n",
    "\n",
    "# 11.\tWrite a Python program to Count occurrences of an element in a list?\n",
    "print(\"Occurence of elment 1 in element list : \", element_list.count(1))"
   ]
  }
 ],
 "metadata": {
  "kernelspec": {
   "display_name": "Python 3",
   "language": "python",
   "name": "python3"
  },
  "language_info": {
   "codemirror_mode": {
    "name": "ipython",
    "version": 3
   },
   "file_extension": ".py",
   "mimetype": "text/x-python",
   "name": "python",
   "nbconvert_exporter": "python",
   "pygments_lexer": "ipython3",
   "version": "3.8.5"
  }
 },
 "nbformat": 4,
 "nbformat_minor": 4
}
