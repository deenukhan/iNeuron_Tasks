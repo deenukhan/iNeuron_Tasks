{
 "cells": [
  {
   "cell_type": "markdown",
   "metadata": {},
   "source": [
    "### All Questions : "
   ]
  },
  {
   "cell_type": "code",
   "execution_count": null,
   "metadata": {},
   "outputs": [],
   "source": [
    "'''Question 1\n",
    "Create a function that takes a number as an argument and returns True or False depending on whether the number is symmetrical or not. A number is symmetrical when it is the same as its reverse.\n",
    "Examples\n",
    "is_symmetrical(7227) ➞ True\n",
    "\n",
    "is_symmetrical(12567) ➞ False\n",
    "\n",
    "is_symmetrical(44444444) ➞ True\n",
    "\n",
    "is_symmetrical(9939) ➞ False\n",
    "\n",
    "is_symmetrical(1112111) ➞ True\n",
    "\n",
    "Question 2\n",
    "Given a string of numbers separated by a comma and space, return the product of the numbers.\n",
    "Examples\n",
    "multiply_nums(\"2, 3\") ➞ 6\n",
    "\n",
    "multiply_nums(\"1, 2, 3, 4\") ➞ 24\n",
    "\n",
    "multiply_nums(\"54, 75, 453, 0\") ➞ 0\n",
    "\n",
    "multiply_nums(\"10, -2\") ➞ -20\n",
    "\n",
    "Question 3\n",
    "Create a function that squares every digit of a number.\n",
    "Examples\n",
    "square_digits(9119) ➞ 811181\n",
    "\n",
    "square_digits(2483) ➞ 416649\n",
    "\n",
    "square_digits(3212) ➞ 9414\n",
    "Notes\n",
    "The function receives an integer and must return an integer.\n",
    "\n",
    "Question 4\n",
    "Create a function that sorts a list and removes all duplicate items from it.\n",
    "Examples\n",
    "setify([1, 3, 3, 5, 5]) ➞ [1, 3, 5]\n",
    "\n",
    "setify([4, 4, 4, 4]) ➞ [4]\n",
    "\n",
    "setify([5, 7, 8, 9, 10, 15]) ➞ [5, 7, 8, 9, 10, 15]\n",
    "\n",
    "setify([3, 3, 3, 2, 1]) ➞ [1, 2, 3]\n",
    "\n",
    "Question 5\n",
    "Create a function that returns the mean of all digits.\n",
    "Examples\n",
    "mean(42) ➞ 3\n",
    "### Question 2 : \n",
    "mean(12345) ➞ 3\n",
    "\n",
    "mean(666) ➞ 6\n",
    "Notes\n",
    "•\tThe mean of all digits is the sum of digits / how many digits there are (e.g. mean of digits in 512 is (5+1+2)/3(number of digits) = 8/3=2).\n",
    "•\tThe mean will always be an integer.\n",
    "\n",
    "'''"
   ]
  },
  {
   "cell_type": "markdown",
   "metadata": {},
   "source": [
    "### Question 1 : "
   ]
  },
  {
   "cell_type": "code",
   "execution_count": 4,
   "metadata": {},
   "outputs": [
    {
     "name": "stdout",
     "output_type": "stream",
     "text": [
      "Enter the Number : 23233\n",
      "False\n"
     ]
    }
   ],
   "source": [
    "'''Question 1\n",
    "Create a function that takes a number as an argument and returns True or False depending on whether the number is symmetrical or not. A number is symmetrical when it is the same as its reverse.\n",
    "Examples\n",
    "is_symmetrical(7227) ➞ True\n",
    "is_symmetrical(12567) ➞ False\n",
    "is_symmetrical(44444444) ➞ True\n",
    "is_symmetrical(9939) ➞ False\n",
    "is_symmetrical(1112111) ➞ True '''\n",
    "\n",
    "number = int(input(\"Enter the Number : \"))\n",
    "\n",
    "#Below Function accepts the number and tell weather a number is palindrome or not\n",
    "def is_symmetrical(number):\n",
    "    \n",
    "    reverse = 0\n",
    "    temp_number = number\n",
    "    \n",
    "    while(number > 0):\n",
    "        digit = number % 10\n",
    "        reverse = reverse * 10 + digit\n",
    "        number = number // 10\n",
    "\n",
    "    if(temp_number == reverse):\n",
    "        return True\n",
    "    else:\n",
    "        return False\n",
    "\n",
    "print(is_symmetrical(number))"
   ]
  },
  {
   "cell_type": "markdown",
   "metadata": {},
   "source": [
    "### Question 2 : "
   ]
  },
  {
   "cell_type": "code",
   "execution_count": 45,
   "metadata": {},
   "outputs": [
    {
     "name": "stdout",
     "output_type": "stream",
     "text": [
      "Enter Number sperated by comma and space : 10, -2\n",
      "-20\n"
     ]
    }
   ],
   "source": [
    "'''\n",
    "Question 2\n",
    "Given a string of numbers separated by a comma and space, return the product of the numbers.\n",
    "Examples\n",
    "multiply_nums(\"2, 3\") ➞ 6\n",
    "multiply_nums(\"1, 2, 3, 4\") ➞ 24\n",
    "multiply_nums(\"54, 75, 453, 0\") ➞ 0\n",
    "multiply_nums(\"10, -2\") ➞ -20\n",
    "'''\n",
    "from functools import reduce\n",
    "\n",
    "#Here we are converting the string input in list of numbers directly \n",
    "number_list = [int(number) for number in input(\"Enter Number sperated by comma and space : \").split(', ')]\n",
    "\n",
    "# below function is using power of lambda and reduce function to solve the statement problem\n",
    "def multiply_nums(number_list):\n",
    "    return reduce((lambda x, y : x * y), number_list)\n",
    "\n",
    "print(multiply_nums(number_list))"
   ]
  },
  {
   "cell_type": "markdown",
   "metadata": {},
   "source": [
    "### Question 3 : "
   ]
  },
  {
   "cell_type": "code",
   "execution_count": 52,
   "metadata": {},
   "outputs": [
    {
     "name": "stdout",
     "output_type": "stream",
     "text": [
      "Enter the Number : 2483\n",
      "416649\n"
     ]
    }
   ],
   "source": [
    "'''Question 3\n",
    "Create a function that squares every digit of a number.\n",
    "Examples\n",
    "square_digits(9119) ➞ 811181\n",
    "square_digits(2483) ➞ 416649\n",
    "square_digits(3212) ➞ 9414\n",
    "Notes\n",
    "The function receives an integer and must return an integer.'''\n",
    "\n",
    "number = int(input('Enter the Number : '))\n",
    "\n",
    "#Here we are just following the simple approach seperate the digits and square them and convert them into string and add them and \n",
    "#at final stage return the string as integer\n",
    "def square_digits(number):\n",
    "    final_number = ''\n",
    "    number_string = list(str(number))\n",
    "    for digit in number_string: \n",
    "        final_number += str(int(digit)**2)\n",
    "    return int(final_number)\n",
    "    \n",
    "print(square_digits(number))"
   ]
  },
  {
   "cell_type": "markdown",
   "metadata": {},
   "source": [
    "### Question 4 : "
   ]
  },
  {
   "cell_type": "code",
   "execution_count": 53,
   "metadata": {},
   "outputs": [
    {
     "name": "stdout",
     "output_type": "stream",
     "text": [
      "Enter Space seperated values : 1 2 3 1 1\n",
      "[1, 2, 3]\n"
     ]
    }
   ],
   "source": [
    "'''\n",
    "Question 4\n",
    "Create a function that sorts a list and removes all duplicate items from it.\n",
    "Examples\n",
    "setify([1, 3, 3, 5, 5]) ➞ [1, 3, 5]\n",
    "setify([4, 4, 4, 4]) ➞ [4]\n",
    "setify([5, 7, 8, 9, 10, 15]) ➞ [5, 7, 8, 9, 10, 15]\n",
    "setify([3, 3, 3, 2, 1]) ➞ [1, 2, 3]'''\n",
    "\n",
    "input_list = [int(x) for x in input(\"Enter Space seperated values : \").split()]\n",
    "\n",
    "#Here we are simply converting into set and then into list again\n",
    "def setify(input_list):\n",
    "    return list(set(input_list))\n",
    "\n",
    "print(setify(input_list))"
   ]
  },
  {
   "cell_type": "markdown",
   "metadata": {},
   "source": [
    "### Question 5 : "
   ]
  },
  {
   "cell_type": "code",
   "execution_count": 65,
   "metadata": {},
   "outputs": [
    {
     "name": "stdout",
     "output_type": "stream",
     "text": [
      "Enter the Number : 666\n",
      "6.0\n"
     ]
    }
   ],
   "source": [
    "'''\n",
    "Question 5\n",
    "Create a function that returns the mean of all digits.\n",
    "Examples\n",
    "mean(42) ➞ 3\n",
    "### Question 2 : \n",
    "mean(12345) ➞ 3\n",
    "mean(666) ➞ 6\n",
    "Notes\n",
    "•\tThe mean of all digits is the sum of digits / how many digits there are (e.g. mean of digits in 512 is (5+1+2)/3(number of digits) = 8/3=2).\n",
    "•\tThe mean will always be an integer.\n",
    "'''\n",
    "\n",
    "number = int(input(\"Enter the Number : \"))\n",
    "\n",
    "#Here we are simply using list comprehension and sum and len function to solve the problem statement\n",
    "def mean(number):\n",
    "    return sum([int(x) for x in list(str(number))])/len(str(number))\n",
    "\n",
    "print(mean(number))"
   ]
  }
 ],
 "metadata": {
  "kernelspec": {
   "display_name": "Python 3",
   "language": "python",
   "name": "python3"
  },
  "language_info": {
   "codemirror_mode": {
    "name": "ipython",
    "version": 3
   },
   "file_extension": ".py",
   "mimetype": "text/x-python",
   "name": "python",
   "nbconvert_exporter": "python",
   "pygments_lexer": "ipython3",
   "version": "3.8.5"
  }
 },
 "nbformat": 4,
 "nbformat_minor": 4
}
