{
 "cells": [
  {
   "cell_type": "markdown",
   "metadata": {},
   "source": [
    "## Theoritical Questions"
   ]
  },
  {
   "cell_type": "code",
   "execution_count": null,
   "metadata": {},
   "outputs": [],
   "source": [
    "'''1. To what does a relative path refer?\n",
    "Ans : relative path is basically an incomplete path of the file and needs to be combined with another path to perform the operation.\n",
    "    \n",
    "2. What does an absolute path start with your operating system?\n",
    "Ans : A complete path which is enough to perform the desired operation is reffered as absolute path. In Linux it starts from /home\n",
    "      In windows, it depends on the directory eg. if we are perofrming some operation on file present in C drive then path will start\n",
    "      from C:.\n",
    "    \n",
    "3. What do the functions os.getcwd() and os.chdir() do?\n",
    "Ans : os.getcwd() returns the current working directory path, and os.chdir() it changes to directory to the path passed to this function.\n",
    "    \n",
    "4. What are the . and .. folders?\n",
    "Ans : . represents the current directory and .. represents the parent directory in unix file system.\n",
    "    \n",
    "5. In C:\\bacon\\eggs\\spam.txt, which part is the dir name, and which part is the base name?\n",
    "Ans : C:\\bacon\\eggs\\ is dir and spam.txt in base name which is basically file name itself.\n",
    "    \n",
    "6. What are the three “mode” arguments that can be passed to the open() function?\n",
    "Ans : r, rb, r+.\n",
    "    \n",
    "7. What happens if an existing file is opened in write mode?\n",
    "Ans : Well it depends on the mode in which we are opening the file, if we are opening in read mode then it's no problem.\n",
    "      if we are opening the file in write mode and that file is already opened in write mode then it will overwrite the previous file.\n",
    "    \n",
    "8. How do you tell the difference between read() and readlines()?\n",
    "Ans : read() takes the whole of conetent of file into one single string and readlines() reads line by line at a time. \n",
    "    \n",
    "    \n",
    "9. What data structure does a shelf value resemble?\n",
    "Ans: dictionary data structure.\n",
    "'''"
   ]
  },
  {
   "cell_type": "code",
   "execution_count": null,
   "metadata": {},
   "outputs": [],
   "source": []
  }
 ],
 "metadata": {
  "kernelspec": {
   "display_name": "Python 3",
   "language": "python",
   "name": "python3"
  },
  "language_info": {
   "codemirror_mode": {
    "name": "ipython",
    "version": 3
   },
   "file_extension": ".py",
   "mimetype": "text/x-python",
   "name": "python",
   "nbconvert_exporter": "python",
   "pygments_lexer": "ipython3",
   "version": "3.8.5"
  }
 },
 "nbformat": 4,
 "nbformat_minor": 4
}
