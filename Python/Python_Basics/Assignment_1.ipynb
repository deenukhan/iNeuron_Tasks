{
 "cells": [
  {
   "cell_type": "markdown",
   "metadata": {},
   "source": [
    "## Theoritical Questions"
   ]
  },
  {
   "cell_type": "code",
   "execution_count": null,
   "metadata": {},
   "outputs": [],
   "source": [
    "'''\n",
    "1. In the below elements which of them are values or an expression? eg:- values can be integer or string and expressions will be mathematical operators.\n",
    "* \n",
    "'hello'\n",
    "-87.8\n",
    "- \n",
    "/ \n",
    "+\t\n",
    "6 \n",
    "Ans :  'hello', -87.8, 6 are values, rest are expressions\n",
    "\n",
    "2. What is the difference between string and variable?\n",
    "Ans : string is type of a value, and variable is holder which holds multiple types of values.\n",
    "\n",
    "3. Describe three different data types.\n",
    "Ans : string, Integer, float\n",
    "\n",
    "4. What is an expression made up of? What do all expressions do?\n",
    "Ans : expressions could the single values, operators, variables, calls to functions or combinations of these. Eg: var1 + 10 * 10. We use expressions to get the operations to get the desired value or result\n",
    "\n",
    "5. This assignment statements, like spam = 10. What is the difference between an expression and a statement?\n",
    "Ans : Here spam = 10 is a statement, statement basically refers to some command like print(“Hello”) or an assignment statement whereas expressions could the single values, operators, variables, calls to functions or combinations of these. Eg: var1 + 10 * 10. We use expressions to get the operations to get the desired value or result\n",
    "\n",
    "6. After running the following code, what does the variable bacon contain?\n",
    "bacon = 22\n",
    "bacon + 1\n",
    "Ans : bacon will have 22 as value.\n",
    "\n",
    "7. What should the values of the following two terms be?\n",
    "'spam' + 'spamspam'\n",
    "'spam' * 3\n",
    "Ans : both the operations will give same value “spamspamspam”\n",
    "\n",
    "8. Why is eggs a valid variable name while 100 is invalid?\n",
    "Ans : we cannot have numeric value as variable names as per Python Variable naming rules.\n",
    "\n",
    "9. What three functions can be used to get the integer, floating-point number, or string version of a value?\n",
    "Ans : int(), float(), str()\n",
    "\n",
    "10. Why does this expression cause an error? How can you fix it?\n",
    "'I have eaten ' + 99 + ' burritos.'\n",
    "Ans : We cannot add integer and string values, we can fix it by converting 99 into string like, 'I have eaten ' + ‘99’ + ' burritos.'\n",
    "\n",
    "'''"
   ]
  },
  {
   "cell_type": "code",
   "execution_count": null,
   "metadata": {},
   "outputs": [],
   "source": []
  }
 ],
 "metadata": {
  "kernelspec": {
   "display_name": "Python 3",
   "language": "python",
   "name": "python3"
  },
  "language_info": {
   "codemirror_mode": {
    "name": "ipython",
    "version": 3
   },
   "file_extension": ".py",
   "mimetype": "text/x-python",
   "name": "python",
   "nbconvert_exporter": "python",
   "pygments_lexer": "ipython3",
   "version": "3.8.5"
  }
 },
 "nbformat": 4,
 "nbformat_minor": 4
}
