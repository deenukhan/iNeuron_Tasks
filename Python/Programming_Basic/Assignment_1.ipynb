{
 "cells": [
  {
   "cell_type": "code",
   "execution_count": 1,
   "metadata": {},
   "outputs": [],
   "source": [
    "#Questions\n",
    "# 1.\tWrite a Python program to print \"Hello Python\"?\n",
    "# 2.\tWrite a Python program to do arithmetical operations addition and division.?\n",
    "# 3.\tWrite a Python program to find the area of a triangle?\n",
    "# 4.\tWrite a Python program to swap two variables?\n",
    "# 5.\tWrite a Python program to generate a random number?\n"
   ]
  },
  {
   "cell_type": "code",
   "execution_count": 3,
   "metadata": {},
   "outputs": [
    {
     "name": "stdout",
     "output_type": "stream",
     "text": [
      "Hello Python\n"
     ]
    }
   ],
   "source": [
    "# 1.\tWrite a Python program to print \"Hello Python\"?\n",
    "print(\"Hello Python\")"
   ]
  },
  {
   "cell_type": "code",
   "execution_count": 4,
   "metadata": {},
   "outputs": [
    {
     "name": "stdout",
     "output_type": "stream",
     "text": [
      "Enter First Number : 20\n",
      "Enter Second Number : 10\n",
      "Addition :  30\n",
      "Division :  2.0\n"
     ]
    }
   ],
   "source": [
    "# 2.\tWrite a Python program to do arithmetical operations addition and division.?\n",
    "first_number = int(input(\"Enter First Number : \"))\n",
    "second_number = int(input(\"Enter Second Number : \"))\n",
    "print(\"Addition : \", (first_number + second_number))\n",
    "print(\"Division : \", (first_number / second_number))"
   ]
  },
  {
   "cell_type": "code",
   "execution_count": 5,
   "metadata": {},
   "outputs": [
    {
     "name": "stdout",
     "output_type": "stream",
     "text": [
      "Enter Height of Triangle : 3\n",
      "Enter base of Triangle : 5\n",
      "Base of Triangle :  7.5\n"
     ]
    }
   ],
   "source": [
    "# 3.\tWrite a Python program to find the area of a triangle?\n",
    "height = int(input(\"Enter Height of Triangle : \"))\n",
    "base = int(input(\"Enter base of Triangle : \"))\n",
    "print(\"Base of Triangle : \", (0.5 * height * base))"
   ]
  },
  {
   "cell_type": "code",
   "execution_count": 6,
   "metadata": {},
   "outputs": [
    {
     "name": "stdout",
     "output_type": "stream",
     "text": [
      "Enter First Number : 4\n",
      "Enter Second Number : 5\n",
      "Numbers after swapping :  5 4\n"
     ]
    }
   ],
   "source": [
    "# 4.\tWrite a Python program to swap two variables?\n",
    "first_number = int(input(\"Enter First Number : \"))\n",
    "second_number = int(input(\"Enter Second Number : \"))\n",
    "first_number , second_number = second_number, first_number\n",
    "print(\"Numbers after swapping : \", first_number, second_number)"
   ]
  },
  {
   "cell_type": "code",
   "execution_count": 13,
   "metadata": {},
   "outputs": [
    {
     "name": "stdout",
     "output_type": "stream",
     "text": [
      "Random Number :  0.6584211837695642\n"
     ]
    }
   ],
   "source": [
    "# 5.\tWrite a Python program to generate a random number?\n",
    "from random import random\n",
    "print(\"Random Number : \", random())"
   ]
  },
  {
   "cell_type": "code",
   "execution_count": null,
   "metadata": {},
   "outputs": [],
   "source": []
  }
 ],
 "metadata": {
  "kernelspec": {
   "display_name": "Python 3",
   "language": "python",
   "name": "python3"
  },
  "language_info": {
   "codemirror_mode": {
    "name": "ipython",
    "version": 3
   },
   "file_extension": ".py",
   "mimetype": "text/x-python",
   "name": "python",
   "nbconvert_exporter": "python",
   "pygments_lexer": "ipython3",
   "version": "3.8.5"
  }
 },
 "nbformat": 4,
 "nbformat_minor": 4
}
