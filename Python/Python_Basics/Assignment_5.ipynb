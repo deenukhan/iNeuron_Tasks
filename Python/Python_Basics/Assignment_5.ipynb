{
 "cells": [
  {
   "cell_type": "markdown",
   "metadata": {},
   "source": [
    "## Theoritical Questions"
   ]
  },
  {
   "cell_type": "code",
   "execution_count": null,
   "metadata": {},
   "outputs": [],
   "source": [
    "'''\n",
    "1. What does an empty dictionary's code look like?\n",
    "Ans : empty_dict = {}\n",
    "    \n",
    "2. What is the value of a dictionary value with the key 'foo' and the value 42?\n",
    "Ans: [42]\n",
    "    \n",
    "3. What is the most significant distinction between a dictionary and a list?\n",
    "Ans: Dictionaries are very fast because they use hashing concept underneath and stores in the form of keys and values, \n",
    "     whereas lists doesn't have such concepts hence lists are slow. \n",
    "    \n",
    "4. What happens if you try to access spam['foo'] if spam is {'bar': 100}?\n",
    "Ans : It will through an KeyError.\n",
    "\n",
    "5. If a dictionary is stored in spam, what is the difference between the expressions 'cat' in spam and 'cat' in spam.keys()?\n",
    "Ans : 'cat' in spam means it will print out the values of key 'cat' and 'cat' in spam.keys() means we are checking or printing only \n",
    "    the key 'cat' in dictionary.\n",
    "    \n",
    "6. If a dictionary is stored in spam, what is the difference between the expressions 'cat' in spam and 'cat' in spam.values()?\n",
    "Ans : 'cat' in spam means it will print out the values of key 'cat' and 'cat' in spam.values() means we are checking or printing only \n",
    "    the value 'cat' in dictionary.\n",
    "    \n",
    "7. What is a shortcut for the following code?\n",
    "if 'color' not in spam:\n",
    "spam['color'] = 'black'\n",
    "Ans : Above code will produce error as we indices must be integers or slices not string or other characters.\n",
    "\n",
    "8. How do you \"pretty print\" dictionary values using which module and function?\n",
    "Ans : We can use pprint from pprint\n",
    "      from pprint import pprint\n",
    "      \n",
    "'''"
   ]
  }
 ],
 "metadata": {
  "kernelspec": {
   "display_name": "Python 3",
   "language": "python",
   "name": "python3"
  },
  "language_info": {
   "codemirror_mode": {
    "name": "ipython",
    "version": 3
   },
   "file_extension": ".py",
   "mimetype": "text/x-python",
   "name": "python",
   "nbconvert_exporter": "python",
   "pygments_lexer": "ipython3",
   "version": "3.8.5"
  }
 },
 "nbformat": 4,
 "nbformat_minor": 4
}
