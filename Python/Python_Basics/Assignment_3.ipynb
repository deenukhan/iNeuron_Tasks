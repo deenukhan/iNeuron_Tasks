{
 "cells": [
  {
   "cell_type": "markdown",
   "metadata": {},
   "source": [
    "## Theoritical Questions"
   ]
  },
  {
   "cell_type": "code",
   "execution_count": null,
   "metadata": {},
   "outputs": [],
   "source": [
    "'''\n",
    "1. Why are functions advantageous to have in your programs?\n",
    "Ans : functions make our code easy to understand and more readable and easy to debug, also this is kind of standard practice.\n",
    "\n",
    "2. When does the code in a function run: when it's specified or when it's called?\n",
    "Ans : When we call a function then it code in a function runs.\n",
    "\n",
    "3. What statement creates a function?\n",
    "Ans : def function_name : , creates the function.\n",
    "\n",
    "4. What is the difference between a function and a function call?\n",
    "Ans : Whole code of a function with its name and body refers to function and function call means calling the function by mentioning function’s name only.\n",
    "\n",
    "5. How many global scopes are there in a Python program? How many local scopes?\n",
    "Ans : There is only global scope in python program and local scope depends on your program, like how many functions or classes etc. are used in program\n",
    "\n",
    "6. What happens to variables in a local scope when the function call returns?\n",
    "Ans : Local variables will be same.\n",
    "\n",
    "7. What is the concept of a return value? Is it possible to have a return value in an expression?\n",
    "Ans : When we call a function it return the value, it’s kind of the result of calling the function. Yes it’s possible to call a function in an expression and have return value in the expression.\n",
    "\n",
    "8. If a function does not have a return statement, what is the return value of a call to that function?\n",
    "Ans : In that case default value will be returned that is None.\n",
    "\n",
    "9. How do you make a function variable refer to the global variable?\n",
    "Ans : We can simply use global variable inside the function.\n",
    "\n",
    "10. What is the data type of None?\n",
    "Ans : None is of data type None.\n",
    "\n",
    "11. What does the sentence import areallyourpetsnamederic do?\n",
    "Ans : We can access all the functions under the module areallyourpetsnamederic inside the program.\n",
    "\n",
    "12. If you had a bacon() feature in a spam module, what would you call it after importing spam?\n",
    "Ans : import spam\n",
    "    \tSpam.bacon()\n",
    "\n",
    "13. What can you do to save a programme from crashing if it encounters an error?\n",
    "Ans : We can use Exception Handling.\n",
    "\n",
    "14. What is the purpose of the try clause? What is the purpose of the except clause?\n",
    "Ans : We write the statements which can through error in try clause and the exception for that error under the except clause.\n",
    "\n",
    "\n",
    "'''"
   ]
  }
 ],
 "metadata": {
  "kernelspec": {
   "display_name": "Python 3",
   "language": "python",
   "name": "python3"
  },
  "language_info": {
   "codemirror_mode": {
    "name": "ipython",
    "version": 3
   },
   "file_extension": ".py",
   "mimetype": "text/x-python",
   "name": "python",
   "nbconvert_exporter": "python",
   "pygments_lexer": "ipython3",
   "version": "3.8.5"
  }
 },
 "nbformat": 4,
 "nbformat_minor": 4
}
