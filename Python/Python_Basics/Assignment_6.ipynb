{
 "cells": [
  {
   "cell_type": "markdown",
   "metadata": {},
   "source": [
    "## Theoritical Questions"
   ]
  },
  {
   "cell_type": "code",
   "execution_count": null,
   "metadata": {},
   "outputs": [],
   "source": [
    "'''\n",
    "1. What are escape characters, and how do you use them?\n",
    "Ans : escape characters are basically used for turning special characters into ordinary characters.\n",
    "      In Python \\ is an escape character, and used before the special characters like below.\n",
    "      print(\"Hello \\\"World\\\"\")\n",
    "    \n",
    "2. What do the escape characters n and t stand for?\n",
    "Ans : n is for newline and t is for tab.\n",
    "    \n",
    "3. What is the way to include backslash characters in a string?\n",
    "Ans : We need to use \\\\ for using one \\ in a string.\n",
    "    \n",
    "4. The string \"Howl's Moving Castle\" is a correct value. Why isn't the single quote character in the word Howl's not escaped a problem?\n",
    "Ans : Because we are using double quotes for specifying the string.\n",
    "    \n",
    "5. How do you write a string of newlines if you don't want to use the n character?\n",
    "Ans : Within three double quotes or single quotes. Like below\n",
    "        '''Hello\n",
    "         World\n",
    "        '''\n",
    "    \n",
    "6. What are the values of the given expressions?\n",
    "    'Hello, world!'[1]\n",
    "    'Hello, world!'[0:5]\n",
    "    'Hello, world!'[:5]\n",
    "    'Hello, world!'[3:]\n",
    "Ans : \n",
    "    'Hello, world!'[1]   ====   'e'\n",
    "    'Hello, world!'[0:5] ====   'Hello'\n",
    "    'Hello, world!'[:5]  ====   'Hello' \n",
    "    'Hello, world!'[3:]  ====   'lo, world!' \n",
    "\n",
    "7. What are the values of the following expressions?\n",
    "    'Hello'.upper()\n",
    "    'Hello'.upper().isupper()\n",
    "    'Hello'.upper().lower()\n",
    "Ans : \n",
    "    'Hello'.upper()           ===>  \"HELLO\"\n",
    "    'Hello'.upper().isupper() ===>  True\n",
    "    'Hello'.upper().lower()   ===>  'hello'\n",
    "    \n",
    "8. What are the values of the following expressions?\n",
    "'Remember, remember, the fifth of July.'.split()\n",
    "'-'.join('There can only one.'.split())\n",
    "Ans : 'Remember, remember, the fifth of July.'.split() ==> ['Remember,', 'remember,', 'the', 'fifth', 'of', 'July.']\n",
    "      '-'.join('There can only one.'.split())          ==> 'There-can-only-one.'\n",
    "        \n",
    "9. What are the methods for right-justifying, left-justifying, and centering a string?\n",
    "Ans : \"string\".rjust(), \"string\".ljust(), 'string'.center()\n",
    "    \n",
    "10. What is the best way to remove whitespace characters from the start or end?\n",
    "Ans : using \"string\".rstrip() method.\n",
    "'''"
   ]
  },
  {
   "cell_type": "code",
   "execution_count": 26,
   "metadata": {},
   "outputs": [],
   "source": [
    "var  = \"deenu\\\\\""
   ]
  },
  {
   "cell_type": "code",
   "execution_count": 27,
   "metadata": {},
   "outputs": [
    {
     "name": "stdout",
     "output_type": "stream",
     "text": [
      "deenu\\\n"
     ]
    }
   ],
   "source": [
    "print(var)"
   ]
  },
  {
   "cell_type": "code",
   "execution_count": null,
   "metadata": {},
   "outputs": [],
   "source": []
  }
 ],
 "metadata": {
  "kernelspec": {
   "display_name": "Python 3",
   "language": "python",
   "name": "python3"
  },
  "language_info": {
   "codemirror_mode": {
    "name": "ipython",
    "version": 3
   },
   "file_extension": ".py",
   "mimetype": "text/x-python",
   "name": "python",
   "nbconvert_exporter": "python",
   "pygments_lexer": "ipython3",
   "version": "3.8.5"
  }
 },
 "nbformat": 4,
 "nbformat_minor": 4
}
